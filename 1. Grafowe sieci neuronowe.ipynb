{
 "cells": [
  {
   "cell_type": "markdown",
   "id": "ac2d8e31",
   "metadata": {},
   "source": [
    "Przed oddaniem zadania upewnij się, że wszystko działa poprawnie.\n",
    "**Uruchom ponownie kernel** (z paska menu: Kernel$\\rightarrow$Restart) a następnie\n",
    "**wykonaj wszystkie komórki** (z paska menu: Cell$\\rightarrow$Run All).\n",
    "\n",
    "Upewnij się, że wypełniłeś wszystkie pola `TU WPISZ KOD` lub `TU WPISZ ODPOWIEDŹ`, oraz\n",
    "że podałeś swoje imię i nazwisko poniżej:"
   ]
  },
  {
   "cell_type": "code",
   "execution_count": null,
   "id": "320b0cc1",
   "metadata": {},
   "outputs": [],
   "source": [
    "NAME = \"\""
   ]
  },
  {
   "cell_type": "markdown",
   "id": "5a3a2c3f",
   "metadata": {},
   "source": [
    "---"
   ]
  },
  {
   "cell_type": "markdown",
   "id": "f9b09b0c",
   "metadata": {},
   "source": [
    "# 1. Grafowe sieci neuronowe\n",
    "\n",
    "W niniejszym zeszycie opiszemy i przeprowadzimy ewaluację 3 najpopularniejszych architektur grafowych sieci neuronowych, mianowicie:\n",
    "- Graph Convolutional Network (**GCN**)\n",
    "- Graph Sample and Aggregate (**GraphSAGE**)\n",
    "- Graph Attention Network (**GAT**)\n",
    "\n",
    "Wykorzystamy poznany w ramach poprzedniego laboratorium zbiór Cora i sprawdzimy jakość działania powyższych modeli w zadaniu klasyfikacji węzłów. Implementacje modeli są dostępne w bibliotece PyTorch-Geometric, natomiast do uczenia modeli wykorzystamy bibliotekę PyTorch-Lightning."
   ]
  },
  {
   "cell_type": "markdown",
   "id": "4198fd85",
   "metadata": {},
   "source": [
    "## 1.1. Załadowanie zbioru\n",
    "Zbiory danych w PyTorch-Lightningu są przekazywane jako instancje obiektów `DataLoader` do metody `fit()` klasy `Trainer`. Można jednak użyć klasy `LightningDataModule` i w niej zdefiniować wszystkie data loadery wraz z wczytaniem właściwego zbioru. Zauważmy, że dotychczas rozważany zbiór danych Cora nie jest podzielony na mniejsze części (tj. mamy dokładnie jeden obiekt `Data`, który opisuje cały graf). Można wykorzystywać metody próbkowania grafów (np. `NeighborSampler`) i przez to uzyskać podział na mini-paczki, jednak zbiór Cora jest na tyle mały, że nie opłaca się go bardziej dzielić. Wykorzystamy natomiast fakt, że wczytywany obiekt `Planetoid` jest iterowalny i zwiera dokładnie jeden element. Możemy go zatem opakować w obiekt `DataListLoader` (dedykowana wersja `DataLoader`a zaimplementowana w PyTorch-Geometricu)."
   ]
  },
  {
   "cell_type": "code",
   "execution_count": null,
   "id": "8a0fefda",
   "metadata": {},
   "outputs": [],
   "source": [
    "from IPython.display import Code, display\n",
    "\n",
    "display(Code(\"src/dataset.py\"))"
   ]
  },
  {
   "cell_type": "code",
   "execution_count": null,
   "id": "368f4af5",
   "metadata": {},
   "outputs": [],
   "source": [
    "from src.dataset import GraphData\n",
    "\n",
    "\n",
    "datamodule = GraphData(dataset_name=\"Cora\")"
   ]
  },
  {
   "cell_type": "markdown",
   "id": "6e8b9729",
   "metadata": {},
   "source": [
    "## 1.2. Trenowanie modeli\n",
    "Wszystkie wymienione modele grafowych sieci neuronowych zostały zaproponowane jako warstwy (z perspektywy głębokiego uczenia maszynowego), które możemy połączyć z dowolnymi innymi warstwami, aby utworzyć model (tzn. możemy wykorzystać znane aktywacje, warstwy liniowe itd.). Istotne dla nas jest jednak to, że grafowe sieci neuronowe (ang. *Graph Neural Networks - GNN*) nie są związane z jakąkolwiek funkcją kosztu i możemy je uczyć zarówno w scenariuszu nadzorowanym jak i nienadzorowanym. Temat modeli nienadzorowanych jest bardziej złożony, zatem na razie go pominiemy i wrócimy do niego w następnym zeszycie.\n",
    "\n",
    "Na chwilę obecną będziemy rozważać scenariusz nadzorowanej klasyfikacji wierzchołków. Przeanalizujmy implementację klasy `SupervisedNodeClassificationGNN`:"
   ]
  },
  {
   "cell_type": "code",
   "execution_count": null,
   "id": "ea801822",
   "metadata": {},
   "outputs": [],
   "source": [
    "display(Code(\"src/supervised.py\"))"
   ]
  },
  {
   "cell_type": "markdown",
   "id": "1418a616",
   "metadata": {},
   "source": [
    "Jak już wspomnieliśmy modele grafowych sieci neuronowych mogą być stosowane w scenariuszu induktywnym. Pomimo, że przekazujemy pełną macierz atrybutów wierzchołków `data.x` oraz pełny zbiór krawędzi `data.edge_index`, funkcję kosztu oraz metrykę AUC obliczamy na wybranym pozbiorze wierzchołków. Podzbiór ten jest określany przez maskę zbioru treningowego `data.train_mask`, walidacyjnego `data.val_mask` oraz testowego `data.test_mask`. Na cele tego laboratorium możemy uznać taki scenariusz jako induktywny, jednak w rzeczywistych zastosowaniach musielibyśmy zadbać oto, aby na danym etapie uczenia (trening, walidacja, testowanie) pozostawiać tylko odpowiedni podzbiór krawędzi i wierzchołków (więcej o tym na kolejnym wykładzie!).\n"
   ]
  },
  {
   "cell_type": "code",
   "execution_count": null,
   "id": "97ae08a3",
   "metadata": {},
   "outputs": [],
   "source": [
    "from src.supervised import SupervisedNodeClassificationGNN"
   ]
  },
  {
   "cell_type": "markdown",
   "id": "80e4ace8",
   "metadata": {},
   "source": [
    "Dla wszystkich modeli zdefiniujmy sobie zbiór wspólnych hiperparametrów:"
   ]
  },
  {
   "cell_type": "code",
   "execution_count": null,
   "id": "1e8b82e1",
   "metadata": {},
   "outputs": [],
   "source": [
    "hparams = {\n",
    "    \"num_epochs\": 10,\n",
    "    \"hidden_dim\":  256,\n",
    "    \"emb_dim\": 128,\n",
    "}"
   ]
  },
  {
   "cell_type": "markdown",
   "id": "1ab47e13",
   "metadata": {},
   "source": [
    "# 1.3. Graph Convolutional Network (GCN)\n",
    "Grafowe sieci neuronowe po raz pierwszy w literaturze były proponowane już w okolicach 2008 roku, jednak dopiero rozwój i popularyzacja uczenia głębokiego pozwoliła na efektywne implementacje. Najpopularniejszym obecnie modelem grafowej sieci neuronowej jest **grafowa konwolucja** (GCN - *Graph Convolutional Network*), która została zaproponowana przez Kipfa w 2016 roku – [artykuł](https://arxiv.org/pdf/1609.02907.pdf). Praca ma już niespełna 23 tysiące cytowań i wiele obecnych GNNów jest oparta na niej.\n",
    "\n",
    "Model GCN w każdej warstwie oblicza nowe cechy wierzchołków $H^{(l+1)}$ na podstawie obecnych cech $H^{(l)}$ w następujący sposób:\n",
    "\n",
    "$$H^{(l+1)} = \\hat{D}^{-\\frac{1}{2}}\\hat{A}\\hat{D}^{-\\frac{1}{2}}H^{(l)}W^{(l)},$$\n",
    "gdzie:\n",
    "- $\\hat{A} = A + I$ to macierz sąsiedztwa grafu z dołączonymi pętlami zwrotnymi na każdym wierzchołku (krawędź z danego wierzchołka do samego siebie)\n",
    "- $\\hat{D}$ to macierz stopnii węzłów (macierz diagonalna)\n",
    "- $\\hat{D}^{-\\frac{1}{2}}\\hat{A}\\hat{D}^{-\\frac{1}{2}}$ to tzw. symetryczna normalizacja macierzy sąsiedztwa\n",
    "- $W^{(l)}$ to macierz wyuczalnych parametrów\n",
    "\n",
    "Powyższa funkcja odgrywa rolę wcześniej wprowadzonej funkcji $\\phi$. Poprzez dodanie pętli na każdym wierzchołku, uśredniane są cechy zarówno sąsiadów jak i cechy danego wierzchołka. Natomiast symetryczna normalizacja pozwala uwzględnić stopień danego wierzchołka oraz stopień sąsiada.\n",
    "\n",
    "Często definicja powyższej reguły *propagacji* uwzględnia również funkcję aktywacji. W celu uniknięcia pomyłek, tutaj ją pomijamy – PyTorch-Geometric też nie stosuje funkcji aktywacji w implementacjach poszczególnych warstw.\n",
    "\n",
    "Zobaczmy jak zaimplementować grafową sieć neuronową wykorzystującą konwolucję grafową. Utworzymy sieć dwuwarstwową (uwzględniającą zatem sąsiedztwo dwu-skokowe) – zobacz klasa `GCNModel`. Następnie wykorzystamy klasę `SupervisedNodeClassificationGNN` i bibliotekę `PyTorch-Lightning`, aby nauczyć model klasyfikacji wierzchołków na zbiorze Cora."
   ]
  },
  {
   "cell_type": "code",
   "execution_count": null,
   "id": "60a2d3b1",
   "metadata": {},
   "outputs": [],
   "source": [
    "import matplotlib.pyplot as plt\n",
    "from torch import nn\n",
    "from torch_geometric.nn import GCNConv\n",
    "\n",
    "from src.trainer import get_default_trainer\n",
    "from src.utils import visualize_embeddings\n",
    "\n",
    "\n",
    "class GCNModel(nn.Module):\n",
    "    def __init__(self, in_dim: int, hidden_dim: int, out_dim: int):\n",
    "        super().__init__()\n",
    "        self.conv1 = GCNConv(in_dim, hidden_dim)\n",
    "        self.act1 = nn.ReLU()\n",
    "        self.conv2 = GCNConv(hidden_dim, out_dim)\n",
    "        self.act2 = nn.ReLU()\n",
    "\n",
    "    def forward(self, x, edge_index):\n",
    "        z = self.act1(self.conv1(x, edge_index))\n",
    "        z = self.act2(self.conv2(z, edge_index))\n",
    "        return z\n",
    "\n",
    "\n",
    "    \n",
    "def evaluate_gcn():\n",
    "    gnn = GCNModel(\n",
    "        in_dim=datamodule.num_node_features,\n",
    "        hidden_dim=hparams[\"hidden_dim\"],\n",
    "        out_dim=hparams[\"emb_dim\"],\n",
    "    )\n",
    "    \n",
    "    model=SupervisedNodeClassificationGNN(\n",
    "        gnn=gnn, \n",
    "        emb_dim=hparams[\"emb_dim\"],\n",
    "        num_classes=datamodule.num_classes,\n",
    "    )\n",
    "\n",
    "    trainer = get_default_trainer(\n",
    "        num_epochs=hparams[\"num_epochs\"],\n",
    "        model_name=\"supervised_GCN\",\n",
    "    )\n",
    "    \n",
    "    trainer.fit(model=model, datamodule=datamodule)\n",
    "    \n",
    "    test_auc = trainer.test(model=model, datamodule=datamodule, verbose=False)[0][\"test/auc\"]\n",
    "    z, y = trainer.predict(model=model, datamodule=datamodule)[0]\n",
    "    \n",
    "    fig = visualize_embeddings(z=z, y=y)\n",
    "    fig.suptitle(f\"GCN - test AUC: {test_auc * 100.:.2f} [%]\")\n",
    "    \n",
    "    plt.show()\n",
    "    \n",
    "\n",
    "evaluate_gcn()"
   ]
  },
  {
   "cell_type": "markdown",
   "id": "d340ca4e",
   "metadata": {},
   "source": [
    "## 1.4. Graph Sample and Aggregate (GraphSAGE)\n",
    "W 2017 roku Hamilton opublikował [pracę](https://arxiv.org/pdf/1706.02216.pdf), w której rozważał induktywne uczenie grafowych sieci neuronowych oraz zaproponował sposób na osiągnięcie lepszej skalowalności metod GNNowych. Zaproponowana metoda (a właściwie rodzina metod) opiera się na idei próbkowania sąsiedztwa grafu (losowo wybrany podzbiór sąsiadów danego węzła) i następnie agregacji cech tak uzyskanej próbki sąsiadów. Zostały rozważone 3 metody agregacji: uśrednienie, LSTM oraz max pooling. Metoda była inspirowana bezpośrednio algorytmem Weisfeiler-Lehman test, a reguła propagacji jest zdefiniowana następująco (z perspektywy pojedynczego wierzchołka):\n",
    "\n",
    "$$h^{(l)}_{\\mathcal{N}(u)} = \\text{AGGREGATE}^{(l)}(\\{h^{(l)}_v, \\forall v\\in\\mathcal{N}(u) \\}) $$\n",
    "$$h^{(l+1)}_u = W^{(l)} \\cdot \\text{CONCAT}(h^{(l)}_u, h^{(l)}_{\\mathcal{N}(u)})$$\n",
    "\n",
    "Widzimy zatem, że najpierw agregujemy cechy sąsiadów za pomocą wybranej metody agregacji, a następnie konkatenujemy wektor cech danego wierzchołka ze zagregowanym wektorem sąsiadów, po czym przemnażamy taki wektor przez macierz wag.\n",
    "\n",
    "W PyTorch-Geometricu, metoda GraphSAGE (tutaj: `SAGEConv`) jest zaimplementowana delikatnie inaczej – reguła propagacji jest określona następująco (dla wariantu z uśrednieniem):\n",
    "\n",
    "$$h^{(l+1)}_u = W^{(l)}_1 \\cdot h^{(l)}_u + W^{(l)}_2 \\cdot \\text{mean}_{v\\in\\mathcal{N}(u)} h^{(l)}_v$$\n",
    "\n",
    "Cechy danego wierzchołka i zagregowanego sąsiedztwa są przekształcane przez osobne wyuczalne macierze.\n",
    "\n",
    "Analogicznie do modelu GCN przeprowadźmy ewaluację:"
   ]
  },
  {
   "cell_type": "code",
   "execution_count": null,
   "id": "91e0618e",
   "metadata": {},
   "outputs": [],
   "source": [
    "from torch_geometric.nn import SAGEConv\n",
    "\n",
    "\n",
    "class GraphSAGEModel(nn.Module):\n",
    "    def __init__(self, in_dim: int, hidden_dim: int, out_dim: int):\n",
    "        super().__init__()\n",
    "        self.conv1 = SAGEConv(in_dim, hidden_dim)\n",
    "        self.act1 = nn.ReLU()\n",
    "        self.conv2 = SAGEConv(hidden_dim, out_dim)\n",
    "        self.act2 = nn.ReLU()\n",
    "\n",
    "    def forward(self, x, edge_index):\n",
    "        z = self.act1(self.conv1(x, edge_index))\n",
    "        z = self.act2(self.conv2(z, edge_index))\n",
    "        return z\n",
    "    \n",
    "    \n",
    "    \n",
    "def evaluate_graphsage():\n",
    "    gnn = GraphSAGEModel(\n",
    "        in_dim=datamodule.num_node_features,\n",
    "        hidden_dim=hparams[\"hidden_dim\"],\n",
    "        out_dim=hparams[\"emb_dim\"],\n",
    "    )\n",
    "    \n",
    "    model=SupervisedNodeClassificationGNN(\n",
    "        gnn=gnn, \n",
    "        emb_dim=hparams[\"emb_dim\"],\n",
    "        num_classes=datamodule.num_classes,\n",
    "    )\n",
    "\n",
    "    trainer = get_default_trainer(\n",
    "        num_epochs=hparams[\"num_epochs\"],\n",
    "        model_name=\"supervised_GraphSAGE\",\n",
    "    )\n",
    "    \n",
    "    trainer.fit(model=model, datamodule=datamodule)\n",
    "    \n",
    "    test_auc = trainer.test(model=model, datamodule=datamodule, verbose=False)[0][\"test/auc\"]\n",
    "    z, y = trainer.predict(model=model, datamodule=datamodule)[0]\n",
    "    \n",
    "    fig = visualize_embeddings(z=z, y=y)\n",
    "    fig.suptitle(f\"GraphSAGE - test AUC: {test_auc * 100.:.2f} [%]\")\n",
    "    \n",
    "    plt.show()\n",
    "    \n",
    "\n",
    "evaluate_graphsage()"
   ]
  },
  {
   "cell_type": "markdown",
   "id": "db0d85b9",
   "metadata": {},
   "source": [
    "## 1.5. Graph Attention Network (GAT)\n",
    "Również w 2017 roku, Velickovic opublikował [pracę](https://arxiv.org/pdf/1710.10903.pdf), która przetłumaczyła mechanizm uwagi znany z przetwarzania języka naturalnego do dziedziny grafów. Powstała metoda nazywana Graph Attention (GAT). Reguła propagacji jest określona następująco:\n",
    "\n",
    "$$h^{(l+1)}_u = \\alpha_{u,u} W^{(l)}h^{(l)}_u + \\sum_{v \\in \\mathcal{N}(u)} \\alpha_{u,v}W^{(l)}h^{(l)}_v $$\n",
    "\n",
    "$$\\alpha_{i, j} = \\frac{\\exp(\\text{LeakyReLU}(a^T[W^{(l)}h^{(l)}_i || W^{(l)}h^{(l)}_j]))}{\\sum_{k\\in i\\cup \\mathcal{N}(i)} \\exp(\\text{LeakyReLU}(a^T[W^{(l)}h^{(l)}_i || W^{(l)}h^{(l)}_k]))},$$\n",
    "\n",
    "gdzie:\n",
    "- $W^{(l)}$ to wyuczalna macierz parametrów\n",
    "- $a$ to wyuczalne parametry mechanizmu uwagi (ang. *attention parameters*)\n",
    "- $\\alpha$ to współczynniki mechanizmu uwagi (ang. *attention coefficients*)\n",
    "\n",
    "Metoda pozwala również na wykorzystanie wielu głowic uwagi (ang. *multi-headed attention*)."
   ]
  },
  {
   "cell_type": "code",
   "execution_count": null,
   "id": "8f60b4d4",
   "metadata": {},
   "outputs": [],
   "source": [
    "from torch_geometric.nn import GATConv\n",
    "\n",
    "\n",
    "class GATModel(nn.Module):\n",
    "    def __init__(self, in_dim: int, hidden_dim: int, out_dim: int):\n",
    "        super().__init__()\n",
    "        self.conv1 = GATConv(in_dim, hidden_dim, heads=1)\n",
    "        self.act1 = nn.ReLU()\n",
    "        self.conv2 = GATConv(hidden_dim, out_dim, heads=1)\n",
    "        self.act2 = nn.ReLU()\n",
    "\n",
    "    def forward(self, x, edge_index):\n",
    "        z = self.act1(self.conv1(x, edge_index))\n",
    "        z = self.act2(self.conv2(z, edge_index))\n",
    "        return z\n",
    "    \n",
    "    \n",
    "    \n",
    "def evaluate_gat():\n",
    "    gnn = GATModel(\n",
    "        in_dim=datamodule.num_node_features,\n",
    "        hidden_dim=hparams[\"hidden_dim\"],\n",
    "        out_dim=hparams[\"emb_dim\"],\n",
    "    )\n",
    "    \n",
    "    model=SupervisedNodeClassificationGNN(\n",
    "        gnn=gnn, \n",
    "        emb_dim=hparams[\"emb_dim\"],\n",
    "        num_classes=datamodule.num_classes,\n",
    "    )\n",
    "\n",
    "    trainer = get_default_trainer(\n",
    "        num_epochs=hparams[\"num_epochs\"],\n",
    "        model_name=\"supervised_GAT\",\n",
    "    )\n",
    "    \n",
    "    trainer.fit(model=model, datamodule=datamodule)\n",
    "    \n",
    "    test_auc = trainer.test(model=model, datamodule=datamodule, verbose=False)[0][\"test/auc\"]\n",
    "    z, y = trainer.predict(model=model, datamodule=datamodule)[0]\n",
    "    \n",
    "    fig = visualize_embeddings(z=z, y=y)\n",
    "    fig.suptitle(f\"GAT - test AUC: {test_auc * 100.:.2f} [%]\")\n",
    "    \n",
    "    plt.show()\n",
    "    \n",
    "\n",
    "evaluate_gat()"
   ]
  },
  {
   "cell_type": "code",
   "execution_count": null,
   "id": "b0425c23",
   "metadata": {},
   "outputs": [],
   "source": [
    "%load_ext tensorboard\n",
    "%tensorboard --logdir ./data/logs --port 6006"
   ]
  },
  {
   "cell_type": "markdown",
   "id": "cad4c3c5",
   "metadata": {},
   "source": [
    "# Zadania"
   ]
  },
  {
   "cell_type": "markdown",
   "id": "fd68d163",
   "metadata": {},
   "source": [
    "## 1.1. Opis i ewaluacja wybranej warstwy GNN (3 pkt)\n",
    "Korzystając z listy zaimplementowanych w PyTorch-Geometricu warstw grafowych sieci neuronowych, wybierz jedną z nich, a następnie:\n",
    "\n",
    "a) Sprawdź jak w tej warstwie realizowana jest reguła propagacji – porównaj wzór z wyżej badanymi modelami oraz zastanów się jak rozumiesz zasadę działania. **Na zajęciach, powinieneś potrafić to wyjaśnić własnymi słowami.**\n",
    "\n",
    "b) Analogicznie do modeli GCN, GraphSAGE oraz GAT, zaimplementuj model dwuwarstwowy i przeprowadź jego ewaluację w zadaniu nadzorowanej klasyfikacji wierzchołków."
   ]
  },
  {
   "cell_type": "code",
   "execution_count": null,
   "id": "ccaae24f",
   "metadata": {
    "deletable": false,
    "nbgrader": {
     "cell_type": "code",
     "checksum": "c6ac0a97488508c90c950a68e8d48f3b",
     "grade": true,
     "grade_id": "selected-gnn-implementation",
     "locked": false,
     "points": 3,
     "schema_version": 3,
     "solution": true,
     "task": false
    }
   },
   "outputs": [],
   "source": [
    "class SelectedGNNModel(nn.Module):\n",
    "    def __init__(self, in_dim: int, hidden_dim: int, out_dim: int):\n",
    "        super().__init__()\n",
    "        # TU WPISZ KOD\n",
    "        raise NotImplementedError()\n",
    "\n",
    "    def forward(self, x, edge_index):\n",
    "        # TU WPISZ KOD\n",
    "        raise NotImplementedError()\n",
    "    \n",
    "    \n",
    "    \n",
    "def evaluate_selected_gnn():\n",
    "    gnn = SelectedGNNModel(\n",
    "        in_dim=datamodule.num_node_features,\n",
    "        hidden_dim=hparams[\"hidden_dim\"],\n",
    "        out_dim=hparams[\"emb_dim\"],\n",
    "    )\n",
    "    \n",
    "    model=SupervisedNodeClassificationGNN(\n",
    "        gnn=gnn, \n",
    "        emb_dim=hparams[\"emb_dim\"],\n",
    "        num_classes=datamodule.num_classes,\n",
    "    )\n",
    "\n",
    "    trainer = get_default_trainer(\n",
    "        num_epochs=hparams[\"num_epochs\"],\n",
    "        model_name=\"supervised_Selected\",\n",
    "    )\n",
    "    \n",
    "    trainer.fit(model=model, datamodule=datamodule)\n",
    "    \n",
    "    test_auc = trainer.test(model=model, datamodule=datamodule, verbose=False)[0][\"test/auc\"]\n",
    "    z, y = trainer.predict(model=model, datamodule=datamodule)[0]\n",
    "    \n",
    "    fig = visualize_embeddings(z=z, y=y)\n",
    "    fig.suptitle(f\"Selected - test AUC: {test_auc * 100.:.2f} [%]\")\n",
    "    \n",
    "    plt.show()\n",
    "    \n",
    "\n",
    "evaluate_selected_gnn()"
   ]
  },
  {
   "cell_type": "markdown",
   "id": "77ca0849",
   "metadata": {},
   "source": [
    "## 1.2. Badanie głębokości grafowej sieci neuronowej (5 pkt)\n",
    "a) Dla trzech powyżej przedstawionych modeli GNNowych oraz wybranej w zadaniu 1.1 warstwy, zaimplementuj klasę, która utworzy grafową sieci neuronową z dowolnie określoną liczbą warstw (w poprzednich przykładach używaliśmy 2-warstowego GNNa) zadanego typu.\n",
    "\n",
    "b) Zbadaj jak głębokość grafowej sieci neuronowej wpływa na jakość uzyskiwanych reprezentacji (uwzględniając miarę AUC na zbiorze testowym). Wybierz kilka wartości dla liczby warstw i przedstaw wyniki w tabelce. Pamiętaj aby każdy eksperyment powtórzyć kilkukrotnie i podać wynik uśredniony wraz z odchyleniem standardowym. Skomentuj wyniki.\n",
    "\n",
    "**[Zadanie dodatkowe]** *c) Znajdź w literaturze jak nazywa się to zaobserwowane zjawisko i wytłumacz własnymi słowami na czym polega.* "
   ]
  },
  {
   "cell_type": "code",
   "execution_count": null,
   "id": "4af79d33",
   "metadata": {
    "deletable": false,
    "nbgrader": {
     "cell_type": "code",
     "checksum": "c7979edebb4b29f02274cff372d1641a",
     "grade": true,
     "grade_id": "evaluate-gnn-depth",
     "locked": false,
     "points": 5,
     "schema_version": 3,
     "solution": true,
     "task": false
    }
   },
   "outputs": [],
   "source": [
    "import pandas as pd\n",
    "import torch\n",
    "\n",
    "\n",
    "class NLayerGNN(nn.Module):\n",
    "    def __init__(\n",
    "        self,\n",
    "        in_dim: int,\n",
    "        hidden_dim: int,\n",
    "        out_dim: int,\n",
    "        layer_name: str,\n",
    "        num_layers: int,\n",
    "    ):\n",
    "        super().__init__()\n",
    "        \n",
    "        # TU WPISZ KOD\n",
    "        raise NotImplementedError()\n",
    "    \n",
    "    @staticmethod\n",
    "    def _make_layer(layer_name: str, in_dim: int, out_dim: int):\n",
    "        # TU WPISZ KOD\n",
    "        raise NotImplementedError()\n",
    "        \n",
    "    def forward(self, x: torch.Tensor, edge_index: torch.Tensor) -> torch.Tensor:\n",
    "        # TU WPISZ KOD\n",
    "        raise NotImplementedError()\n",
    "    \n",
    "    \n",
    "    \n",
    "def evaluate_num_layers():\n",
    "    # TU WPISZ KOD\n",
    "    raise NotImplementedError()\n",
    "    \n",
    "\n",
    "evaluate_num_layers()"
   ]
  },
  {
   "cell_type": "code",
   "execution_count": null,
   "id": "0d3c282e",
   "metadata": {},
   "outputs": [],
   "source": []
  }
 ],
 "metadata": {
  "kernelspec": {
   "display_name": "Python 3 (ipykernel)",
   "language": "python",
   "name": "python3"
  },
  "language_info": {
   "codemirror_mode": {
    "name": "ipython",
    "version": 3
   },
   "file_extension": ".py",
   "mimetype": "text/x-python",
   "name": "python",
   "nbconvert_exporter": "python",
   "pygments_lexer": "ipython3",
   "version": "3.10.11"
  }
 },
 "nbformat": 4,
 "nbformat_minor": 5
}
